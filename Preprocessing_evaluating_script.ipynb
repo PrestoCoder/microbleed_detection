{
 "cells": [
  {
   "cell_type": "code",
   "execution_count": 10,
   "id": "31707651",
   "metadata": {},
   "outputs": [],
   "source": [
    "valdoDatasetPath = \"../Dataset/ValdoDataset/\";"
   ]
  },
  {
   "cell_type": "code",
   "execution_count": 11,
   "id": "c0e15a74",
   "metadata": {},
   "outputs": [],
   "source": [
    "valdoDatasetPreProcPath = \"../Dataset/ValdoDatasetPreProc/\";"
   ]
  },
  {
   "cell_type": "code",
   "execution_count": null,
   "id": "3eaa1622",
   "metadata": {},
   "outputs": [
    {
     "name": "stdout",
     "output_type": "stream",
     "text": [
      "prepare_microbleednet_data ../Dataset/ValdoDataset/sub-213/sub-213_space-T2S_CMB.nii.gz ../Dataset/ValdoDatasetPreProc/sub-213/output_preproc_sub-213_space-T2S_CMB.nii.gz\n"
     ]
    },
    {
     "name": "stderr",
     "output_type": "stream",
     "text": [
      "/Users/rohanchhibba/fsl/bin/bet: line 399: 69380 Segmentation fault: 11  ${FSLDIR}/bin/bet2 $IN $OUT $bet2opts\n",
      "Image Exception : #63 :: No image files match: /Users/rohanchhibba/Desktop/PreAD/Dataset/ValdoDatasetPreProc/sub-213/truenet_SunMar__APEuJg/INPUT_brain\n",
      "Image Exception : #22 :: Failed to read volume /Users/rohanchhibba/Desktop/PreAD/Dataset/ValdoDatasetPreProc/sub-213/truenet_SunMar__APEuJg/INPUT_brain.nii.gz\n",
      "Error : No image files match: /Users/rohanchhibba/Desktop/PreAD/Dataset/ValdoDatasetPreProc/sub-213/truenet_SunMar__APEuJg/INPUT_brain\n",
      "libc++abi: terminating with uncaught exception of type std::runtime_error: Failed to read volume /Users/rohanchhibba/Desktop/PreAD/Dataset/ValdoDatasetPreProc/sub-213/truenet_SunMar__APEuJg/INPUT_brain.nii.gz\n",
      "Error : No image files match: /Users/rohanchhibba/Desktop/PreAD/Dataset/ValdoDatasetPreProc/sub-213/truenet_SunMar__APEuJg/INPUT_brain\n",
      "/Library/Frameworks/Python.framework/Versions/3.12/bin/prepare_microbleednet_data: line 44: 69384 Abort trap: 6           $FSLDIR/bin/fast -B --nopve ${TMPVISDIR}/INPUT_brain.nii.gz\n"
     ]
    },
    {
     "name": "stdout",
     "output_type": "stream",
     "text": [
      "/Users/rohanchhibba/fsl/bin/bet failed during command:/Users/rohanchhibba/Desktop/PreAD/Dataset/ValdoDatasetPreProc/sub-213/truenet_SunMar__APEuJg/INPUT.nii.gz /Users/rohanchhibba/Desktop/PreAD/Dataset/ValdoDatasetPreProc/sub-213/truenet_SunMar__APEuJg/INPUT_brain.nii.gz\n",
      "Could not find a supported file with prefix \"/Users/rohanchhibba/Desktop/PreAD/Dataset/ValdoDatasetPreProc/sub-213/truenet_SunMar__APEuJg/INPUT_brain_restore\"\n",
      "../Dataset/ValdoDatasetPreProc/sub-213/output_preproc_sub-213_space-T2S_CMB.nii.gz 1\n",
      "prepare_microbleednet_data ../Dataset/ValdoDataset/sub-213/sub-213_space-T2S_desc-masked_T1.nii.gz ../Dataset/ValdoDatasetPreProc/sub-213/output_preproc_sub-213_space-T2S_desc-masked_T1.nii.gz\n",
      "../Dataset/ValdoDatasetPreProc/sub-213/output_preproc_sub-213_space-T2S_desc-masked_T1.nii.gz 2\n",
      "prepare_microbleednet_data ../Dataset/ValdoDataset/sub-213/sub-213_space-T2S_desc-masked_T2S.nii.gz ../Dataset/ValdoDatasetPreProc/sub-213/output_preproc_sub-213_space-T2S_desc-masked_T2S.nii.gz\n",
      "../Dataset/ValdoDatasetPreProc/sub-213/output_preproc_sub-213_space-T2S_desc-masked_T2S.nii.gz 3\n",
      "prepare_microbleednet_data ../Dataset/ValdoDataset/sub-213/sub-213_space-T2S_desc-masked_T2.nii.gz ../Dataset/ValdoDatasetPreProc/sub-213/output_preproc_sub-213_space-T2S_desc-masked_T2.nii.gz\n",
      "../Dataset/ValdoDatasetPreProc/sub-213/output_preproc_sub-213_space-T2S_desc-masked_T2.nii.gz 4\n",
      "prepare_microbleednet_data ../Dataset/ValdoDataset/sub-214/sub-214_space-T2S_desc-masked_T2.nii.gz ../Dataset/ValdoDatasetPreProc/sub-214/output_preproc_sub-214_space-T2S_desc-masked_T2.nii.gz\n",
      "../Dataset/ValdoDatasetPreProc/sub-214/output_preproc_sub-214_space-T2S_desc-masked_T2.nii.gz 5\n",
      "prepare_microbleednet_data ../Dataset/ValdoDataset/sub-214/sub-214_space-T2S_desc-masked_T2S.nii.gz ../Dataset/ValdoDatasetPreProc/sub-214/output_preproc_sub-214_space-T2S_desc-masked_T2S.nii.gz\n",
      "../Dataset/ValdoDatasetPreProc/sub-214/output_preproc_sub-214_space-T2S_desc-masked_T2S.nii.gz 6\n",
      "prepare_microbleednet_data ../Dataset/ValdoDataset/sub-214/sub-214_space-T2S_desc-masked_T1.nii.gz ../Dataset/ValdoDatasetPreProc/sub-214/output_preproc_sub-214_space-T2S_desc-masked_T1.nii.gz\n",
      "../Dataset/ValdoDatasetPreProc/sub-214/output_preproc_sub-214_space-T2S_desc-masked_T1.nii.gz 7\n",
      "prepare_microbleednet_data ../Dataset/ValdoDataset/sub-214/sub-214_space-T2S_CMB.nii.gz ../Dataset/ValdoDatasetPreProc/sub-214/output_preproc_sub-214_space-T2S_CMB.nii.gz\n"
     ]
    },
    {
     "name": "stderr",
     "output_type": "stream",
     "text": [
      "/Users/rohanchhibba/fsl/bin/bet: line 399: 72873 Segmentation fault: 11  ${FSLDIR}/bin/bet2 $IN $OUT $bet2opts\n",
      "Image Exception : #63 :: No image files match: /Users/rohanchhibba/Desktop/PreAD/Dataset/ValdoDatasetPreProc/sub-214/truenet_SunMar__DDtsnY/INPUT_brain\n",
      "Image Exception : #22 :: Failed to read volume /Users/rohanchhibba/Desktop/PreAD/Dataset/ValdoDatasetPreProc/sub-214/truenet_SunMar__DDtsnY/INPUT_brain.nii.gz\n",
      "Error : No image files match: /Users/rohanchhibba/Desktop/PreAD/Dataset/ValdoDatasetPreProc/sub-214/truenet_SunMar__DDtsnY/INPUT_brain\n",
      "libc++abi: terminating with uncaught exception of type std::runtime_error: Failed to read volume /Users/rohanchhibba/Desktop/PreAD/Dataset/ValdoDatasetPreProc/sub-214/truenet_SunMar__DDtsnY/INPUT_brain.nii.gz\n",
      "Error : No image files match: /Users/rohanchhibba/Desktop/PreAD/Dataset/ValdoDatasetPreProc/sub-214/truenet_SunMar__DDtsnY/INPUT_brain\n",
      "/Library/Frameworks/Python.framework/Versions/3.12/bin/prepare_microbleednet_data: line 44: 72874 Abort trap: 6           $FSLDIR/bin/fast -B --nopve ${TMPVISDIR}/INPUT_brain.nii.gz\n"
     ]
    },
    {
     "name": "stdout",
     "output_type": "stream",
     "text": [
      "/Users/rohanchhibba/fsl/bin/bet failed during command:/Users/rohanchhibba/Desktop/PreAD/Dataset/ValdoDatasetPreProc/sub-214/truenet_SunMar__DDtsnY/INPUT.nii.gz /Users/rohanchhibba/Desktop/PreAD/Dataset/ValdoDatasetPreProc/sub-214/truenet_SunMar__DDtsnY/INPUT_brain.nii.gz\n",
      "Could not find a supported file with prefix \"/Users/rohanchhibba/Desktop/PreAD/Dataset/ValdoDatasetPreProc/sub-214/truenet_SunMar__DDtsnY/INPUT_brain_restore\"\n",
      "../Dataset/ValdoDatasetPreProc/sub-214/output_preproc_sub-214_space-T2S_CMB.nii.gz 8\n",
      "prepare_microbleednet_data ../Dataset/ValdoDataset/sub-222/sub-222_space-T2S_desc-masked_T2.nii.gz ../Dataset/ValdoDatasetPreProc/sub-222/output_preproc_sub-222_space-T2S_desc-masked_T2.nii.gz\n",
      "../Dataset/ValdoDatasetPreProc/sub-222/output_preproc_sub-222_space-T2S_desc-masked_T2.nii.gz 9\n",
      "prepare_microbleednet_data ../Dataset/ValdoDataset/sub-222/sub-222_space-T2S_desc-masked_T1.nii.gz ../Dataset/ValdoDatasetPreProc/sub-222/output_preproc_sub-222_space-T2S_desc-masked_T1.nii.gz\n",
      "../Dataset/ValdoDatasetPreProc/sub-222/output_preproc_sub-222_space-T2S_desc-masked_T1.nii.gz 10\n",
      "prepare_microbleednet_data ../Dataset/ValdoDataset/sub-222/sub-222_space-T2S_desc-masked_T2S.nii.gz ../Dataset/ValdoDatasetPreProc/sub-222/output_preproc_sub-222_space-T2S_desc-masked_T2S.nii.gz\n",
      "../Dataset/ValdoDatasetPreProc/sub-222/output_preproc_sub-222_space-T2S_desc-masked_T2S.nii.gz 11\n",
      "prepare_microbleednet_data ../Dataset/ValdoDataset/sub-222/sub-222_space-T2S_CMB.nii.gz ../Dataset/ValdoDatasetPreProc/sub-222/output_preproc_sub-222_space-T2S_CMB.nii.gz\n"
     ]
    },
    {
     "name": "stderr",
     "output_type": "stream",
     "text": [
      "/Users/rohanchhibba/fsl/bin/bet: line 399: 74156 Segmentation fault: 11  ${FSLDIR}/bin/bet2 $IN $OUT $bet2opts\n",
      "Image Exception : #63 :: No image files match: /Users/rohanchhibba/Desktop/PreAD/Dataset/ValdoDatasetPreProc/sub-222/truenet_SunMar__FDUCWm/INPUT_brain\n",
      "Image Exception : #22 :: Failed to read volume /Users/rohanchhibba/Desktop/PreAD/Dataset/ValdoDatasetPreProc/sub-222/truenet_SunMar__FDUCWm/INPUT_brain.nii.gz\n",
      "Error : No image files match: /Users/rohanchhibba/Desktop/PreAD/Dataset/ValdoDatasetPreProc/sub-222/truenet_SunMar__FDUCWm/INPUT_brain\n",
      "libc++abi: terminating with uncaught exception of type std::runtime_error: Failed to read volume /Users/rohanchhibba/Desktop/PreAD/Dataset/ValdoDatasetPreProc/sub-222/truenet_SunMar__FDUCWm/INPUT_brain.nii.gz\n",
      "Error : No image files match: /Users/rohanchhibba/Desktop/PreAD/Dataset/ValdoDatasetPreProc/sub-222/truenet_SunMar__FDUCWm/INPUT_brain\n",
      "/Library/Frameworks/Python.framework/Versions/3.12/bin/prepare_microbleednet_data: line 44: 74158 Abort trap: 6           $FSLDIR/bin/fast -B --nopve ${TMPVISDIR}/INPUT_brain.nii.gz\n"
     ]
    },
    {
     "name": "stdout",
     "output_type": "stream",
     "text": [
      "/Users/rohanchhibba/fsl/bin/bet failed during command:/Users/rohanchhibba/Desktop/PreAD/Dataset/ValdoDatasetPreProc/sub-222/truenet_SunMar__FDUCWm/INPUT.nii.gz /Users/rohanchhibba/Desktop/PreAD/Dataset/ValdoDatasetPreProc/sub-222/truenet_SunMar__FDUCWm/INPUT_brain.nii.gz\n",
      "Could not find a supported file with prefix \"/Users/rohanchhibba/Desktop/PreAD/Dataset/ValdoDatasetPreProc/sub-222/truenet_SunMar__FDUCWm/INPUT_brain_restore\"\n",
      "../Dataset/ValdoDatasetPreProc/sub-222/output_preproc_sub-222_space-T2S_CMB.nii.gz 12\n",
      "prepare_microbleednet_data ../Dataset/ValdoDataset/sub-225/sub-225_space-T2S_desc-masked_T1.nii.gz ../Dataset/ValdoDatasetPreProc/sub-225/output_preproc_sub-225_space-T2S_desc-masked_T1.nii.gz\n",
      "../Dataset/ValdoDatasetPreProc/sub-225/output_preproc_sub-225_space-T2S_desc-masked_T1.nii.gz 13\n",
      "prepare_microbleednet_data ../Dataset/ValdoDataset/sub-225/sub-225_space-T2S_CMB.nii.gz ../Dataset/ValdoDatasetPreProc/sub-225/output_preproc_sub-225_space-T2S_CMB.nii.gz\n"
     ]
    },
    {
     "name": "stderr",
     "output_type": "stream",
     "text": [
      "/Users/rohanchhibba/fsl/bin/bet: line 399: 74665 Segmentation fault: 11  ${FSLDIR}/bin/bet2 $IN $OUT $bet2opts\n",
      "Image Exception : #63 :: No image files match: /Users/rohanchhibba/Desktop/PreAD/Dataset/ValdoDatasetPreProc/sub-225/truenet_SunMar__9A69xc/INPUT_brain\n",
      "Image Exception : #22 :: Failed to read volume /Users/rohanchhibba/Desktop/PreAD/Dataset/ValdoDatasetPreProc/sub-225/truenet_SunMar__9A69xc/INPUT_brain.nii.gz\n",
      "Error : No image files match: /Users/rohanchhibba/Desktop/PreAD/Dataset/ValdoDatasetPreProc/sub-225/truenet_SunMar__9A69xc/INPUT_brain\n",
      "libc++abi: terminating with uncaught exception of type std::runtime_error: Failed to read volume /Users/rohanchhibba/Desktop/PreAD/Dataset/ValdoDatasetPreProc/sub-225/truenet_SunMar__9A69xc/INPUT_brain.nii.gz\n",
      "Error : No image files match: /Users/rohanchhibba/Desktop/PreAD/Dataset/ValdoDatasetPreProc/sub-225/truenet_SunMar__9A69xc/INPUT_brain\n",
      "/Library/Frameworks/Python.framework/Versions/3.12/bin/prepare_microbleednet_data: line 44: 74669 Abort trap: 6           $FSLDIR/bin/fast -B --nopve ${TMPVISDIR}/INPUT_brain.nii.gz\n"
     ]
    },
    {
     "name": "stdout",
     "output_type": "stream",
     "text": [
      "/Users/rohanchhibba/fsl/bin/bet failed during command:/Users/rohanchhibba/Desktop/PreAD/Dataset/ValdoDatasetPreProc/sub-225/truenet_SunMar__9A69xc/INPUT.nii.gz /Users/rohanchhibba/Desktop/PreAD/Dataset/ValdoDatasetPreProc/sub-225/truenet_SunMar__9A69xc/INPUT_brain.nii.gz\n",
      "Could not find a supported file with prefix \"/Users/rohanchhibba/Desktop/PreAD/Dataset/ValdoDatasetPreProc/sub-225/truenet_SunMar__9A69xc/INPUT_brain_restore\"\n",
      "../Dataset/ValdoDatasetPreProc/sub-225/output_preproc_sub-225_space-T2S_CMB.nii.gz 14\n",
      "prepare_microbleednet_data ../Dataset/ValdoDataset/sub-225/sub-225_space-T2S_desc-masked_T2.nii.gz ../Dataset/ValdoDatasetPreProc/sub-225/output_preproc_sub-225_space-T2S_desc-masked_T2.nii.gz\n",
      "../Dataset/ValdoDatasetPreProc/sub-225/output_preproc_sub-225_space-T2S_desc-masked_T2.nii.gz 15\n",
      "prepare_microbleednet_data ../Dataset/ValdoDataset/sub-225/sub-225_space-T2S_desc-masked_T2S.nii.gz ../Dataset/ValdoDatasetPreProc/sub-225/output_preproc_sub-225_space-T2S_desc-masked_T2S.nii.gz\n",
      "../Dataset/ValdoDatasetPreProc/sub-225/output_preproc_sub-225_space-T2S_desc-masked_T2S.nii.gz 16\n",
      "prepare_microbleednet_data ../Dataset/ValdoDataset/sub-224/sub-224_space-T2S_CMB.nii.gz ../Dataset/ValdoDatasetPreProc/sub-224/output_preproc_sub-224_space-T2S_CMB.nii.gz\n"
     ]
    },
    {
     "name": "stderr",
     "output_type": "stream",
     "text": [
      "/Users/rohanchhibba/fsl/bin/bet: line 399: 75534 Segmentation fault: 11  ${FSLDIR}/bin/bet2 $IN $OUT $bet2opts\n",
      "Image Exception : #63 :: No image files match: /Users/rohanchhibba/Desktop/PreAD/Dataset/ValdoDatasetPreProc/sub-224/truenet_SunMar__FGtHG8/INPUT_brain\n",
      "Image Exception : #22 :: Failed to read volume /Users/rohanchhibba/Desktop/PreAD/Dataset/ValdoDatasetPreProc/sub-224/truenet_SunMar__FGtHG8/INPUT_brain.nii.gz\n",
      "Error : No image files match: /Users/rohanchhibba/Desktop/PreAD/Dataset/ValdoDatasetPreProc/sub-224/truenet_SunMar__FGtHG8/INPUT_brain\n",
      "libc++abi: terminating with uncaught exception of type std::runtime_error: Failed to read volume /Users/rohanchhibba/Desktop/PreAD/Dataset/ValdoDatasetPreProc/sub-224/truenet_SunMar__FGtHG8/INPUT_brain.nii.gz\n",
      "Error : No image files match: /Users/rohanchhibba/Desktop/PreAD/Dataset/ValdoDatasetPreProc/sub-224/truenet_SunMar__FGtHG8/INPUT_brain\n",
      "/Library/Frameworks/Python.framework/Versions/3.12/bin/prepare_microbleednet_data: line 44: 75536 Abort trap: 6           $FSLDIR/bin/fast -B --nopve ${TMPVISDIR}/INPUT_brain.nii.gz\n"
     ]
    },
    {
     "name": "stdout",
     "output_type": "stream",
     "text": [
      "/Users/rohanchhibba/fsl/bin/bet failed during command:/Users/rohanchhibba/Desktop/PreAD/Dataset/ValdoDatasetPreProc/sub-224/truenet_SunMar__FGtHG8/INPUT.nii.gz /Users/rohanchhibba/Desktop/PreAD/Dataset/ValdoDatasetPreProc/sub-224/truenet_SunMar__FGtHG8/INPUT_brain.nii.gz\n",
      "Could not find a supported file with prefix \"/Users/rohanchhibba/Desktop/PreAD/Dataset/ValdoDatasetPreProc/sub-224/truenet_SunMar__FGtHG8/INPUT_brain_restore\"\n",
      "../Dataset/ValdoDatasetPreProc/sub-224/output_preproc_sub-224_space-T2S_CMB.nii.gz 17\n",
      "prepare_microbleednet_data ../Dataset/ValdoDataset/sub-224/sub-224_space-T2S_desc-masked_T2.nii.gz ../Dataset/ValdoDatasetPreProc/sub-224/output_preproc_sub-224_space-T2S_desc-masked_T2.nii.gz\n",
      "../Dataset/ValdoDatasetPreProc/sub-224/output_preproc_sub-224_space-T2S_desc-masked_T2.nii.gz 18\n",
      "prepare_microbleednet_data ../Dataset/ValdoDataset/sub-224/sub-224_space-T2S_desc-masked_T2S.nii.gz ../Dataset/ValdoDatasetPreProc/sub-224/output_preproc_sub-224_space-T2S_desc-masked_T2S.nii.gz\n"
     ]
    },
    {
     "name": "stderr",
     "output_type": "stream",
     "text": [
      "libc++abi: terminating with uncaught exception of type NiftiIO::NiftiException: Error: cant open file /Users/rohanchhibba/Desktop/PreAD/Dataset/ValdoDatasetPreProc/sub-224/truenet_SunMar__nKg82S/INPUT_brain_seg.nii.gz\n",
      "/Library/Frameworks/Python.framework/Versions/3.12/bin/prepare_microbleednet_data: line 44: 76036 Abort trap: 6           $FSLDIR/bin/fast -B --nopve ${TMPVISDIR}/INPUT_brain.nii.gz\n"
     ]
    },
    {
     "name": "stdout",
     "output_type": "stream",
     "text": [
      "Could not find a supported file with prefix \"/Users/rohanchhibba/Desktop/PreAD/Dataset/ValdoDatasetPreProc/sub-224/truenet_SunMar__nKg82S/INPUT_brain_restore\"\n",
      "../Dataset/ValdoDatasetPreProc/sub-224/output_preproc_sub-224_space-T2S_desc-masked_T2S.nii.gz 19\n",
      "prepare_microbleednet_data ../Dataset/ValdoDataset/sub-224/sub-224_space-T2S_desc-masked_T1.nii.gz ../Dataset/ValdoDatasetPreProc/sub-224/output_preproc_sub-224_space-T2S_desc-masked_T1.nii.gz\n"
     ]
    },
    {
     "name": "stderr",
     "output_type": "stream",
     "text": [
      "rm: /Users/rohanchhibba/Desktop/PreAD/Dataset/ValdoDatasetPreProc/sub-224/truenet_SunMar__nKg82S: No such file or directory\n"
     ]
    },
    {
     "name": "stdout",
     "output_type": "stream",
     "text": [
      "../Dataset/ValdoDatasetPreProc/sub-224/output_preproc_sub-224_space-T2S_desc-masked_T1.nii.gz 20\n",
      "prepare_microbleednet_data ../Dataset/ValdoDataset/sub-223/sub-223_space-T2S_desc-masked_T2S.nii.gz ../Dataset/ValdoDatasetPreProc/sub-223/output_preproc_sub-223_space-T2S_desc-masked_T2S.nii.gz\n",
      "../Dataset/ValdoDatasetPreProc/sub-223/output_preproc_sub-223_space-T2S_desc-masked_T2S.nii.gz 21\n",
      "prepare_microbleednet_data ../Dataset/ValdoDataset/sub-223/sub-223_space-T2S_desc-masked_T1.nii.gz ../Dataset/ValdoDatasetPreProc/sub-223/output_preproc_sub-223_space-T2S_desc-masked_T1.nii.gz\n",
      "../Dataset/ValdoDatasetPreProc/sub-223/output_preproc_sub-223_space-T2S_desc-masked_T1.nii.gz 22\n",
      "prepare_microbleednet_data ../Dataset/ValdoDataset/sub-223/sub-223_space-T2S_CMB.nii.gz ../Dataset/ValdoDatasetPreProc/sub-223/output_preproc_sub-223_space-T2S_CMB.nii.gz\n"
     ]
    },
    {
     "name": "stderr",
     "output_type": "stream",
     "text": [
      "/Users/rohanchhibba/fsl/bin/bet: line 399: 83719 Segmentation fault: 11  ${FSLDIR}/bin/bet2 $IN $OUT $bet2opts\n",
      "Image Exception : #63 :: No image files match: /Users/rohanchhibba/Desktop/PreAD/Dataset/ValdoDatasetPreProc/sub-223/truenet_MonMar__7r4pMK/INPUT_brain\n",
      "Image Exception : #22 :: Failed to read volume /Users/rohanchhibba/Desktop/PreAD/Dataset/ValdoDatasetPreProc/sub-223/truenet_MonMar__7r4pMK/INPUT_brain.nii.gz\n",
      "Error : No image files match: /Users/rohanchhibba/Desktop/PreAD/Dataset/ValdoDatasetPreProc/sub-223/truenet_MonMar__7r4pMK/INPUT_brain\n",
      "libc++abi: terminating with uncaught exception of type std::runtime_error: Failed to read volume /Users/rohanchhibba/Desktop/PreAD/Dataset/ValdoDatasetPreProc/sub-223/truenet_MonMar__7r4pMK/INPUT_brain.nii.gz\n",
      "Error : No image files match: /Users/rohanchhibba/Desktop/PreAD/Dataset/ValdoDatasetPreProc/sub-223/truenet_MonMar__7r4pMK/INPUT_brain\n",
      "/Library/Frameworks/Python.framework/Versions/3.12/bin/prepare_microbleednet_data: line 44: 83721 Abort trap: 6           $FSLDIR/bin/fast -B --nopve ${TMPVISDIR}/INPUT_brain.nii.gz\n"
     ]
    },
    {
     "name": "stdout",
     "output_type": "stream",
     "text": [
      "/Users/rohanchhibba/fsl/bin/bet failed during command:/Users/rohanchhibba/Desktop/PreAD/Dataset/ValdoDatasetPreProc/sub-223/truenet_MonMar__7r4pMK/INPUT.nii.gz /Users/rohanchhibba/Desktop/PreAD/Dataset/ValdoDatasetPreProc/sub-223/truenet_MonMar__7r4pMK/INPUT_brain.nii.gz\n",
      "Could not find a supported file with prefix \"/Users/rohanchhibba/Desktop/PreAD/Dataset/ValdoDatasetPreProc/sub-223/truenet_MonMar__7r4pMK/INPUT_brain_restore\"\n",
      "../Dataset/ValdoDatasetPreProc/sub-223/output_preproc_sub-223_space-T2S_CMB.nii.gz 23\n",
      "prepare_microbleednet_data ../Dataset/ValdoDataset/sub-223/sub-223_space-T2S_desc-masked_T2.nii.gz ../Dataset/ValdoDatasetPreProc/sub-223/output_preproc_sub-223_space-T2S_desc-masked_T2.nii.gz\n"
     ]
    },
    {
     "name": "stderr",
     "output_type": "stream",
     "text": [
      "libc++abi: terminating with uncaught exception of type NiftiIO::NiftiException: Error: cant open file /Users/rohanchhibba/Desktop/PreAD/Dataset/ValdoDatasetPreProc/sub-223/truenet_MonMar__SVJWed/INPUT_brain_seg.nii.gz\n",
      "/Library/Frameworks/Python.framework/Versions/3.12/bin/prepare_microbleednet_data: line 44: 83870 Abort trap: 6           $FSLDIR/bin/fast -B --nopve ${TMPVISDIR}/INPUT_brain.nii.gz\n"
     ]
    },
    {
     "name": "stdout",
     "output_type": "stream",
     "text": [
      "Could not find a supported file with prefix \"/Users/rohanchhibba/Desktop/PreAD/Dataset/ValdoDatasetPreProc/sub-223/truenet_MonMar__SVJWed/INPUT_brain_restore\"\n",
      "../Dataset/ValdoDatasetPreProc/sub-223/output_preproc_sub-223_space-T2S_desc-masked_T2.nii.gz 24\n",
      "prepare_microbleednet_data ../Dataset/ValdoDataset/sub-215/sub-215_space-T2S_desc-masked_T1.nii.gz ../Dataset/ValdoDatasetPreProc/sub-215/output_preproc_sub-215_space-T2S_desc-masked_T1.nii.gz\n"
     ]
    },
    {
     "name": "stderr",
     "output_type": "stream",
     "text": [
      "rm: /Users/rohanchhibba/Desktop/PreAD/Dataset/ValdoDatasetPreProc/sub-223/truenet_MonMar__SVJWed: No such file or directory\n"
     ]
    },
    {
     "name": "stdout",
     "output_type": "stream",
     "text": [
      "../Dataset/ValdoDatasetPreProc/sub-215/output_preproc_sub-215_space-T2S_desc-masked_T1.nii.gz 25\n",
      "prepare_microbleednet_data ../Dataset/ValdoDataset/sub-215/sub-215_space-T2S_desc-masked_T2S.nii.gz ../Dataset/ValdoDatasetPreProc/sub-215/output_preproc_sub-215_space-T2S_desc-masked_T2S.nii.gz\n",
      "../Dataset/ValdoDatasetPreProc/sub-215/output_preproc_sub-215_space-T2S_desc-masked_T2S.nii.gz 26\n",
      "prepare_microbleednet_data ../Dataset/ValdoDataset/sub-215/sub-215_space-T2S_CMB.nii.gz ../Dataset/ValdoDatasetPreProc/sub-215/output_preproc_sub-215_space-T2S_CMB.nii.gz\n"
     ]
    },
    {
     "name": "stderr",
     "output_type": "stream",
     "text": [
      "/Users/rohanchhibba/fsl/bin/bet: line 399: 87630 Segmentation fault: 11  ${FSLDIR}/bin/bet2 $IN $OUT $bet2opts\n",
      "Image Exception : #63 :: No image files match: /Users/rohanchhibba/Desktop/PreAD/Dataset/ValdoDatasetPreProc/sub-215/truenet_MonMar__jQyZHA/INPUT_brain\n",
      "Image Exception : #22 :: Failed to read volume /Users/rohanchhibba/Desktop/PreAD/Dataset/ValdoDatasetPreProc/sub-215/truenet_MonMar__jQyZHA/INPUT_brain.nii.gz\n",
      "Error : No image files match: /Users/rohanchhibba/Desktop/PreAD/Dataset/ValdoDatasetPreProc/sub-215/truenet_MonMar__jQyZHA/INPUT_brain\n",
      "libc++abi: terminating with uncaught exception of type std::runtime_error: Failed to read volume /Users/rohanchhibba/Desktop/PreAD/Dataset/ValdoDatasetPreProc/sub-215/truenet_MonMar__jQyZHA/INPUT_brain.nii.gz\n",
      "Error : No image files match: /Users/rohanchhibba/Desktop/PreAD/Dataset/ValdoDatasetPreProc/sub-215/truenet_MonMar__jQyZHA/INPUT_brain\n",
      "/Library/Frameworks/Python.framework/Versions/3.12/bin/prepare_microbleednet_data: line 44: 87632 Abort trap: 6           $FSLDIR/bin/fast -B --nopve ${TMPVISDIR}/INPUT_brain.nii.gz\n"
     ]
    },
    {
     "name": "stdout",
     "output_type": "stream",
     "text": [
      "/Users/rohanchhibba/fsl/bin/bet failed during command:/Users/rohanchhibba/Desktop/PreAD/Dataset/ValdoDatasetPreProc/sub-215/truenet_MonMar__jQyZHA/INPUT.nii.gz /Users/rohanchhibba/Desktop/PreAD/Dataset/ValdoDatasetPreProc/sub-215/truenet_MonMar__jQyZHA/INPUT_brain.nii.gz\n",
      "Could not find a supported file with prefix \"/Users/rohanchhibba/Desktop/PreAD/Dataset/ValdoDatasetPreProc/sub-215/truenet_MonMar__jQyZHA/INPUT_brain_restore\"\n",
      "../Dataset/ValdoDatasetPreProc/sub-215/output_preproc_sub-215_space-T2S_CMB.nii.gz 27\n",
      "prepare_microbleednet_data ../Dataset/ValdoDataset/sub-215/sub-215_space-T2S_desc-masked_T2.nii.gz ../Dataset/ValdoDatasetPreProc/sub-215/output_preproc_sub-215_space-T2S_desc-masked_T2.nii.gz\n",
      "../Dataset/ValdoDatasetPreProc/sub-215/output_preproc_sub-215_space-T2S_desc-masked_T2.nii.gz 28\n",
      "prepare_microbleednet_data ../Dataset/ValdoDataset/sub-212/sub-212_space-T2S_CMB.nii.gz ../Dataset/ValdoDatasetPreProc/sub-212/output_preproc_sub-212_space-T2S_CMB.nii.gz\n"
     ]
    },
    {
     "name": "stderr",
     "output_type": "stream",
     "text": [
      "/Users/rohanchhibba/fsl/bin/bet: line 399: 88425 Segmentation fault: 11  ${FSLDIR}/bin/bet2 $IN $OUT $bet2opts\n",
      "Image Exception : #63 :: No image files match: /Users/rohanchhibba/Desktop/PreAD/Dataset/ValdoDatasetPreProc/sub-212/truenet_MonMar__3ZbhJi/INPUT_brain\n",
      "Image Exception : #22 :: Failed to read volume /Users/rohanchhibba/Desktop/PreAD/Dataset/ValdoDatasetPreProc/sub-212/truenet_MonMar__3ZbhJi/INPUT_brain.nii.gz\n",
      "Error : No image files match: /Users/rohanchhibba/Desktop/PreAD/Dataset/ValdoDatasetPreProc/sub-212/truenet_MonMar__3ZbhJi/INPUT_brain\n",
      "libc++abi: terminating with uncaught exception of type std::runtime_error: Failed to read volume /Users/rohanchhibba/Desktop/PreAD/Dataset/ValdoDatasetPreProc/sub-212/truenet_MonMar__3ZbhJi/INPUT_brain.nii.gz\n",
      "Error : No image files match: /Users/rohanchhibba/Desktop/PreAD/Dataset/ValdoDatasetPreProc/sub-212/truenet_MonMar__3ZbhJi/INPUT_brain\n",
      "/Library/Frameworks/Python.framework/Versions/3.12/bin/prepare_microbleednet_data: line 44: 88428 Abort trap: 6           $FSLDIR/bin/fast -B --nopve ${TMPVISDIR}/INPUT_brain.nii.gz\n"
     ]
    },
    {
     "name": "stdout",
     "output_type": "stream",
     "text": [
      "/Users/rohanchhibba/fsl/bin/bet failed during command:/Users/rohanchhibba/Desktop/PreAD/Dataset/ValdoDatasetPreProc/sub-212/truenet_MonMar__3ZbhJi/INPUT.nii.gz /Users/rohanchhibba/Desktop/PreAD/Dataset/ValdoDatasetPreProc/sub-212/truenet_MonMar__3ZbhJi/INPUT_brain.nii.gz\n",
      "Could not find a supported file with prefix \"/Users/rohanchhibba/Desktop/PreAD/Dataset/ValdoDatasetPreProc/sub-212/truenet_MonMar__3ZbhJi/INPUT_brain_restore\"\n",
      "../Dataset/ValdoDatasetPreProc/sub-212/output_preproc_sub-212_space-T2S_CMB.nii.gz 29\n",
      "prepare_microbleednet_data ../Dataset/ValdoDataset/sub-212/sub-212_space-T2S_desc-masked_T2.nii.gz ../Dataset/ValdoDatasetPreProc/sub-212/output_preproc_sub-212_space-T2S_desc-masked_T2.nii.gz\n",
      "../Dataset/ValdoDatasetPreProc/sub-212/output_preproc_sub-212_space-T2S_desc-masked_T2.nii.gz 30\n",
      "prepare_microbleednet_data ../Dataset/ValdoDataset/sub-212/sub-212_space-T2S_desc-masked_T2S.nii.gz ../Dataset/ValdoDatasetPreProc/sub-212/output_preproc_sub-212_space-T2S_desc-masked_T2S.nii.gz\n"
     ]
    },
    {
     "name": "stderr",
     "output_type": "stream",
     "text": [
      "libc++abi: terminating with uncaught exception of type NiftiIO::NiftiException: Error: cant open file /Users/rohanchhibba/Desktop/PreAD/Dataset/ValdoDatasetPreProc/sub-212/truenet_MonMar__LBAXof/INPUT_brain_seg.nii.gz\n",
      "/Library/Frameworks/Python.framework/Versions/3.12/bin/prepare_microbleednet_data: line 44: 90975 Abort trap: 6           $FSLDIR/bin/fast -B --nopve ${TMPVISDIR}/INPUT_brain.nii.gz\n",
      "rm: /Users/rohanchhibba/Desktop/PreAD/Dataset/ValdoDatasetPreProc/sub-212/truenet_MonMar__LBAXof: No such file or directory\n"
     ]
    },
    {
     "name": "stdout",
     "output_type": "stream",
     "text": [
      "Could not find a supported file with prefix \"/Users/rohanchhibba/Desktop/PreAD/Dataset/ValdoDatasetPreProc/sub-212/truenet_MonMar__LBAXof/INPUT_brain_restore\"\n",
      "../Dataset/ValdoDatasetPreProc/sub-212/output_preproc_sub-212_space-T2S_desc-masked_T2S.nii.gz 31\n",
      "prepare_microbleednet_data ../Dataset/ValdoDataset/sub-212/sub-212_space-T2S_desc-masked_T1.nii.gz ../Dataset/ValdoDatasetPreProc/sub-212/output_preproc_sub-212_space-T2S_desc-masked_T1.nii.gz\n",
      "../Dataset/ValdoDatasetPreProc/sub-212/output_preproc_sub-212_space-T2S_desc-masked_T1.nii.gz 32\n",
      "prepare_microbleednet_data ../Dataset/ValdoDataset/sub-302/sub-302_space-T2S_desc-masked_T1.nii.gz ../Dataset/ValdoDatasetPreProc/sub-302/output_preproc_sub-302_space-T2S_desc-masked_T1.nii.gz\n"
     ]
    },
    {
     "name": "stderr",
     "output_type": "stream",
     "text": [
      "/Users/rohanchhibba/fsl/bin/bet: line 399: 95190 Segmentation fault: 11  ${FSLDIR}/bin/bet2 $IN $OUT $bet2opts\n",
      "Image Exception : #63 :: No image files match: /Users/rohanchhibba/Desktop/PreAD/Dataset/ValdoDatasetPreProc/sub-302/truenet_MonMar__ugQHEp/INPUT_brain\n",
      "Image Exception : #22 :: Failed to read volume /Users/rohanchhibba/Desktop/PreAD/Dataset/ValdoDatasetPreProc/sub-302/truenet_MonMar__ugQHEp/INPUT_brain.nii.gz\n",
      "Error : No image files match: /Users/rohanchhibba/Desktop/PreAD/Dataset/ValdoDatasetPreProc/sub-302/truenet_MonMar__ugQHEp/INPUT_brain\n",
      "libc++abi: terminating with uncaught exception of type std::runtime_error: Failed to read volume /Users/rohanchhibba/Desktop/PreAD/Dataset/ValdoDatasetPreProc/sub-302/truenet_MonMar__ugQHEp/INPUT_brain.nii.gz\n",
      "Error : No image files match: /Users/rohanchhibba/Desktop/PreAD/Dataset/ValdoDatasetPreProc/sub-302/truenet_MonMar__ugQHEp/INPUT_brain\n",
      "/Library/Frameworks/Python.framework/Versions/3.12/bin/prepare_microbleednet_data: line 44: 95191 Abort trap: 6           $FSLDIR/bin/fast -B --nopve ${TMPVISDIR}/INPUT_brain.nii.gz\n"
     ]
    },
    {
     "name": "stdout",
     "output_type": "stream",
     "text": [
      "/Users/rohanchhibba/fsl/bin/bet failed during command:/Users/rohanchhibba/Desktop/PreAD/Dataset/ValdoDatasetPreProc/sub-302/truenet_MonMar__ugQHEp/INPUT.nii.gz /Users/rohanchhibba/Desktop/PreAD/Dataset/ValdoDatasetPreProc/sub-302/truenet_MonMar__ugQHEp/INPUT_brain.nii.gz\n",
      "Could not find a supported file with prefix \"/Users/rohanchhibba/Desktop/PreAD/Dataset/ValdoDatasetPreProc/sub-302/truenet_MonMar__ugQHEp/INPUT_brain_restore\"\n",
      "../Dataset/ValdoDatasetPreProc/sub-302/output_preproc_sub-302_space-T2S_desc-masked_T1.nii.gz 33\n",
      "prepare_microbleednet_data ../Dataset/ValdoDataset/sub-302/sub-302_space-T2S_desc-masked_T2.nii.gz ../Dataset/ValdoDatasetPreProc/sub-302/output_preproc_sub-302_space-T2S_desc-masked_T2.nii.gz\n"
     ]
    },
    {
     "name": "stderr",
     "output_type": "stream",
     "text": [
      "/Users/rohanchhibba/fsl/bin/bet: line 399: 95338 Segmentation fault: 11  ${FSLDIR}/bin/bet2 $IN $OUT $bet2opts\n",
      "Image Exception : #63 :: No image files match: /Users/rohanchhibba/Desktop/PreAD/Dataset/ValdoDatasetPreProc/sub-302/truenet_MonMar__sq1lL4/INPUT_brain\n",
      "Image Exception : #22 :: Failed to read volume /Users/rohanchhibba/Desktop/PreAD/Dataset/ValdoDatasetPreProc/sub-302/truenet_MonMar__sq1lL4/INPUT_brain.nii.gz\n",
      "Error : No image files match: /Users/rohanchhibba/Desktop/PreAD/Dataset/ValdoDatasetPreProc/sub-302/truenet_MonMar__sq1lL4/INPUT_brain\n",
      "libc++abi: terminating with uncaught exception of type std::runtime_error: Failed to read volume /Users/rohanchhibba/Desktop/PreAD/Dataset/ValdoDatasetPreProc/sub-302/truenet_MonMar__sq1lL4/INPUT_brain.nii.gz\n",
      "Error : No image files match: /Users/rohanchhibba/Desktop/PreAD/Dataset/ValdoDatasetPreProc/sub-302/truenet_MonMar__sq1lL4/INPUT_brain\n",
      "/Library/Frameworks/Python.framework/Versions/3.12/bin/prepare_microbleednet_data: line 44: 95339 Abort trap: 6           $FSLDIR/bin/fast -B --nopve ${TMPVISDIR}/INPUT_brain.nii.gz\n"
     ]
    },
    {
     "name": "stdout",
     "output_type": "stream",
     "text": [
      "/Users/rohanchhibba/fsl/bin/bet failed during command:/Users/rohanchhibba/Desktop/PreAD/Dataset/ValdoDatasetPreProc/sub-302/truenet_MonMar__sq1lL4/INPUT.nii.gz /Users/rohanchhibba/Desktop/PreAD/Dataset/ValdoDatasetPreProc/sub-302/truenet_MonMar__sq1lL4/INPUT_brain.nii.gz\n",
      "Could not find a supported file with prefix \"/Users/rohanchhibba/Desktop/PreAD/Dataset/ValdoDatasetPreProc/sub-302/truenet_MonMar__sq1lL4/INPUT_brain_restore\"\n",
      "../Dataset/ValdoDatasetPreProc/sub-302/output_preproc_sub-302_space-T2S_desc-masked_T2.nii.gz 34\n",
      "prepare_microbleednet_data ../Dataset/ValdoDataset/sub-302/sub-302_space-T2S_CMB.nii.gz ../Dataset/ValdoDatasetPreProc/sub-302/output_preproc_sub-302_space-T2S_CMB.nii.gz\n"
     ]
    },
    {
     "name": "stderr",
     "output_type": "stream",
     "text": [
      "/Users/rohanchhibba/fsl/bin/bet: line 399: 95487 Segmentation fault: 11  ${FSLDIR}/bin/bet2 $IN $OUT $bet2opts\n",
      "Image Exception : #63 :: No image files match: /Users/rohanchhibba/Desktop/PreAD/Dataset/ValdoDatasetPreProc/sub-302/truenet_MonMar__Gs9Wn7/INPUT_brain\n",
      "Image Exception : #22 :: Failed to read volume /Users/rohanchhibba/Desktop/PreAD/Dataset/ValdoDatasetPreProc/sub-302/truenet_MonMar__Gs9Wn7/INPUT_brain.nii.gz\n",
      "Error : No image files match: /Users/rohanchhibba/Desktop/PreAD/Dataset/ValdoDatasetPreProc/sub-302/truenet_MonMar__Gs9Wn7/INPUT_brain\n",
      "libc++abi: terminating with uncaught exception of type std::runtime_error: Failed to read volume /Users/rohanchhibba/Desktop/PreAD/Dataset/ValdoDatasetPreProc/sub-302/truenet_MonMar__Gs9Wn7/INPUT_brain.nii.gz\n",
      "Error : No image files match: /Users/rohanchhibba/Desktop/PreAD/Dataset/ValdoDatasetPreProc/sub-302/truenet_MonMar__Gs9Wn7/INPUT_brain\n",
      "/Library/Frameworks/Python.framework/Versions/3.12/bin/prepare_microbleednet_data: line 44: 95488 Abort trap: 6           $FSLDIR/bin/fast -B --nopve ${TMPVISDIR}/INPUT_brain.nii.gz\n"
     ]
    },
    {
     "name": "stdout",
     "output_type": "stream",
     "text": [
      "/Users/rohanchhibba/fsl/bin/bet failed during command:/Users/rohanchhibba/Desktop/PreAD/Dataset/ValdoDatasetPreProc/sub-302/truenet_MonMar__Gs9Wn7/INPUT.nii.gz /Users/rohanchhibba/Desktop/PreAD/Dataset/ValdoDatasetPreProc/sub-302/truenet_MonMar__Gs9Wn7/INPUT_brain.nii.gz\n",
      "Could not find a supported file with prefix \"/Users/rohanchhibba/Desktop/PreAD/Dataset/ValdoDatasetPreProc/sub-302/truenet_MonMar__Gs9Wn7/INPUT_brain_restore\"\n",
      "../Dataset/ValdoDatasetPreProc/sub-302/output_preproc_sub-302_space-T2S_CMB.nii.gz 35\n",
      "prepare_microbleednet_data ../Dataset/ValdoDataset/sub-302/sub-302_space-T2S_desc-masked_T2S.nii.gz ../Dataset/ValdoDatasetPreProc/sub-302/output_preproc_sub-302_space-T2S_desc-masked_T2S.nii.gz\n",
      "../Dataset/ValdoDatasetPreProc/sub-302/output_preproc_sub-302_space-T2S_desc-masked_T2S.nii.gz 36\n",
      "prepare_microbleednet_data ../Dataset/ValdoDataset/sub-305/sub-305_space-T2S_desc-masked_T2.nii.gz ../Dataset/ValdoDatasetPreProc/sub-305/output_preproc_sub-305_space-T2S_desc-masked_T2.nii.gz\n"
     ]
    },
    {
     "name": "stderr",
     "output_type": "stream",
     "text": [
      "/Users/rohanchhibba/fsl/bin/bet: line 399: 95792 Segmentation fault: 11  ${FSLDIR}/bin/bet2 $IN $OUT $bet2opts\n",
      "Image Exception : #63 :: No image files match: /Users/rohanchhibba/Desktop/PreAD/Dataset/ValdoDatasetPreProc/sub-305/truenet_MonMar__cNP0l2/INPUT_brain\n",
      "Image Exception : #22 :: Failed to read volume /Users/rohanchhibba/Desktop/PreAD/Dataset/ValdoDatasetPreProc/sub-305/truenet_MonMar__cNP0l2/INPUT_brain.nii.gz\n",
      "Error : No image files match: /Users/rohanchhibba/Desktop/PreAD/Dataset/ValdoDatasetPreProc/sub-305/truenet_MonMar__cNP0l2/INPUT_brain\n",
      "libc++abi: terminating with uncaught exception of type std::runtime_error: Failed to read volume /Users/rohanchhibba/Desktop/PreAD/Dataset/ValdoDatasetPreProc/sub-305/truenet_MonMar__cNP0l2/INPUT_brain.nii.gz\n",
      "Error : No image files match: /Users/rohanchhibba/Desktop/PreAD/Dataset/ValdoDatasetPreProc/sub-305/truenet_MonMar__cNP0l2/INPUT_brain\n",
      "/Library/Frameworks/Python.framework/Versions/3.12/bin/prepare_microbleednet_data: line 44: 95793 Abort trap: 6           $FSLDIR/bin/fast -B --nopve ${TMPVISDIR}/INPUT_brain.nii.gz\n"
     ]
    },
    {
     "name": "stdout",
     "output_type": "stream",
     "text": [
      "/Users/rohanchhibba/fsl/bin/bet failed during command:/Users/rohanchhibba/Desktop/PreAD/Dataset/ValdoDatasetPreProc/sub-305/truenet_MonMar__cNP0l2/INPUT.nii.gz /Users/rohanchhibba/Desktop/PreAD/Dataset/ValdoDatasetPreProc/sub-305/truenet_MonMar__cNP0l2/INPUT_brain.nii.gz\n",
      "Could not find a supported file with prefix \"/Users/rohanchhibba/Desktop/PreAD/Dataset/ValdoDatasetPreProc/sub-305/truenet_MonMar__cNP0l2/INPUT_brain_restore\"\n",
      "../Dataset/ValdoDatasetPreProc/sub-305/output_preproc_sub-305_space-T2S_desc-masked_T2.nii.gz 37\n",
      "prepare_microbleednet_data ../Dataset/ValdoDataset/sub-305/sub-305_space-T2S_CMB.nii.gz ../Dataset/ValdoDatasetPreProc/sub-305/output_preproc_sub-305_space-T2S_CMB.nii.gz\n"
     ]
    },
    {
     "name": "stderr",
     "output_type": "stream",
     "text": [
      "/Users/rohanchhibba/fsl/bin/bet: line 399: 95941 Segmentation fault: 11  ${FSLDIR}/bin/bet2 $IN $OUT $bet2opts\n",
      "Image Exception : #63 :: No image files match: /Users/rohanchhibba/Desktop/PreAD/Dataset/ValdoDatasetPreProc/sub-305/truenet_MonMar__XNLkVz/INPUT_brain\n",
      "Image Exception : #22 :: Failed to read volume /Users/rohanchhibba/Desktop/PreAD/Dataset/ValdoDatasetPreProc/sub-305/truenet_MonMar__XNLkVz/INPUT_brain.nii.gz\n",
      "Error : No image files match: /Users/rohanchhibba/Desktop/PreAD/Dataset/ValdoDatasetPreProc/sub-305/truenet_MonMar__XNLkVz/INPUT_brain\n",
      "libc++abi: terminating with uncaught exception of type std::runtime_error: Failed to read volume /Users/rohanchhibba/Desktop/PreAD/Dataset/ValdoDatasetPreProc/sub-305/truenet_MonMar__XNLkVz/INPUT_brain.nii.gz\n",
      "Error : No image files match: /Users/rohanchhibba/Desktop/PreAD/Dataset/ValdoDatasetPreProc/sub-305/truenet_MonMar__XNLkVz/INPUT_brain\n",
      "/Library/Frameworks/Python.framework/Versions/3.12/bin/prepare_microbleednet_data: line 44: 95942 Abort trap: 6           $FSLDIR/bin/fast -B --nopve ${TMPVISDIR}/INPUT_brain.nii.gz\n"
     ]
    },
    {
     "name": "stdout",
     "output_type": "stream",
     "text": [
      "/Users/rohanchhibba/fsl/bin/bet failed during command:/Users/rohanchhibba/Desktop/PreAD/Dataset/ValdoDatasetPreProc/sub-305/truenet_MonMar__XNLkVz/INPUT.nii.gz /Users/rohanchhibba/Desktop/PreAD/Dataset/ValdoDatasetPreProc/sub-305/truenet_MonMar__XNLkVz/INPUT_brain.nii.gz\n",
      "Could not find a supported file with prefix \"/Users/rohanchhibba/Desktop/PreAD/Dataset/ValdoDatasetPreProc/sub-305/truenet_MonMar__XNLkVz/INPUT_brain_restore\"\n",
      "../Dataset/ValdoDatasetPreProc/sub-305/output_preproc_sub-305_space-T2S_CMB.nii.gz 38\n",
      "prepare_microbleednet_data ../Dataset/ValdoDataset/sub-305/sub-305_space-T2S_desc-masked_T2S.nii.gz ../Dataset/ValdoDatasetPreProc/sub-305/output_preproc_sub-305_space-T2S_desc-masked_T2S.nii.gz\n",
      "../Dataset/ValdoDatasetPreProc/sub-305/output_preproc_sub-305_space-T2S_desc-masked_T2S.nii.gz 39\n",
      "prepare_microbleednet_data ../Dataset/ValdoDataset/sub-305/sub-305_space-T2S_desc-masked_T1.nii.gz ../Dataset/ValdoDatasetPreProc/sub-305/output_preproc_sub-305_space-T2S_desc-masked_T1.nii.gz\n"
     ]
    },
    {
     "name": "stderr",
     "output_type": "stream",
     "text": [
      "/Users/rohanchhibba/fsl/bin/bet: line 399: 96274 Segmentation fault: 11  ${FSLDIR}/bin/bet2 $IN $OUT $bet2opts\n",
      "Image Exception : #63 :: No image files match: /Users/rohanchhibba/Desktop/PreAD/Dataset/ValdoDatasetPreProc/sub-305/truenet_MonMar__8hvY9R/INPUT_brain\n",
      "Image Exception : #22 :: Failed to read volume /Users/rohanchhibba/Desktop/PreAD/Dataset/ValdoDatasetPreProc/sub-305/truenet_MonMar__8hvY9R/INPUT_brain.nii.gz\n",
      "Error : No image files match: /Users/rohanchhibba/Desktop/PreAD/Dataset/ValdoDatasetPreProc/sub-305/truenet_MonMar__8hvY9R/INPUT_brain\n",
      "libc++abi: terminating with uncaught exception of type std::runtime_error: Failed to read volume /Users/rohanchhibba/Desktop/PreAD/Dataset/ValdoDatasetPreProc/sub-305/truenet_MonMar__8hvY9R/INPUT_brain.nii.gz\n",
      "Error : No image files match: /Users/rohanchhibba/Desktop/PreAD/Dataset/ValdoDatasetPreProc/sub-305/truenet_MonMar__8hvY9R/INPUT_brain\n",
      "/Library/Frameworks/Python.framework/Versions/3.12/bin/prepare_microbleednet_data: line 44: 96275 Abort trap: 6           $FSLDIR/bin/fast -B --nopve ${TMPVISDIR}/INPUT_brain.nii.gz\n"
     ]
    },
    {
     "name": "stdout",
     "output_type": "stream",
     "text": [
      "/Users/rohanchhibba/fsl/bin/bet failed during command:/Users/rohanchhibba/Desktop/PreAD/Dataset/ValdoDatasetPreProc/sub-305/truenet_MonMar__8hvY9R/INPUT.nii.gz /Users/rohanchhibba/Desktop/PreAD/Dataset/ValdoDatasetPreProc/sub-305/truenet_MonMar__8hvY9R/INPUT_brain.nii.gz\n",
      "Could not find a supported file with prefix \"/Users/rohanchhibba/Desktop/PreAD/Dataset/ValdoDatasetPreProc/sub-305/truenet_MonMar__8hvY9R/INPUT_brain_restore\"\n",
      "../Dataset/ValdoDatasetPreProc/sub-305/output_preproc_sub-305_space-T2S_desc-masked_T1.nii.gz 40\n",
      "prepare_microbleednet_data ../Dataset/ValdoDataset/sub-108/sub-108_space-T2S_desc-masked_T2.nii.gz ../Dataset/ValdoDatasetPreProc/sub-108/output_preproc_sub-108_space-T2S_desc-masked_T2.nii.gz\n",
      "../Dataset/ValdoDatasetPreProc/sub-108/output_preproc_sub-108_space-T2S_desc-masked_T2.nii.gz 41\n",
      "prepare_microbleednet_data ../Dataset/ValdoDataset/sub-108/sub-108_space-T2S_desc-masked_T2S.nii.gz ../Dataset/ValdoDatasetPreProc/sub-108/output_preproc_sub-108_space-T2S_desc-masked_T2S.nii.gz\n"
     ]
    },
    {
     "name": "stderr",
     "output_type": "stream",
     "text": [
      "libc++abi: terminating with uncaught exception of type NiftiIO::NiftiException: Error: cant open file /Users/rohanchhibba/Desktop/PreAD/Dataset/ValdoDatasetPreProc/sub-108/truenet_MonMar__xNTf7C/INPUT_brain.nii.gz\n",
      "/Users/rohanchhibba/fsl/bin/bet: line 399: 96748 Abort trap: 6           ${FSLDIR}/bin/bet2 $IN $OUT $bet2opts\n",
      "Image Exception : #63 :: No image files match: /Users/rohanchhibba/Desktop/PreAD/Dataset/ValdoDatasetPreProc/sub-108/truenet_MonMar__xNTf7C/INPUT_brain\n",
      "Image Exception : #22 :: Failed to read volume /Users/rohanchhibba/Desktop/PreAD/Dataset/ValdoDatasetPreProc/sub-108/truenet_MonMar__xNTf7C/INPUT_brain.nii.gz\n",
      "Error : No image files match: /Users/rohanchhibba/Desktop/PreAD/Dataset/ValdoDatasetPreProc/sub-108/truenet_MonMar__xNTf7C/INPUT_brain\n",
      "libc++abi: terminating with uncaught exception of type std::runtime_error: Failed to read volume /Users/rohanchhibba/Desktop/PreAD/Dataset/ValdoDatasetPreProc/sub-108/truenet_MonMar__xNTf7C/INPUT_brain.nii.gz\n",
      "Error : No image files match: /Users/rohanchhibba/Desktop/PreAD/Dataset/ValdoDatasetPreProc/sub-108/truenet_MonMar__xNTf7C/INPUT_brain\n",
      "/Library/Frameworks/Python.framework/Versions/3.12/bin/prepare_microbleednet_data: line 44: 96750 Abort trap: 6           $FSLDIR/bin/fast -B --nopve ${TMPVISDIR}/INPUT_brain.nii.gz\n",
      "rm: /Users/rohanchhibba/Desktop/PreAD/Dataset/ValdoDatasetPreProc/sub-108/truenet_MonMar__xNTf7C: No such file or directory\n"
     ]
    },
    {
     "name": "stdout",
     "output_type": "stream",
     "text": [
      "/Users/rohanchhibba/fsl/bin/bet failed during command:/Users/rohanchhibba/Desktop/PreAD/Dataset/ValdoDatasetPreProc/sub-108/truenet_MonMar__xNTf7C/INPUT.nii.gz /Users/rohanchhibba/Desktop/PreAD/Dataset/ValdoDatasetPreProc/sub-108/truenet_MonMar__xNTf7C/INPUT_brain.nii.gz\n",
      "Could not find a supported file with prefix \"/Users/rohanchhibba/Desktop/PreAD/Dataset/ValdoDatasetPreProc/sub-108/truenet_MonMar__xNTf7C/INPUT_brain_restore\"\n",
      "../Dataset/ValdoDatasetPreProc/sub-108/output_preproc_sub-108_space-T2S_desc-masked_T2S.nii.gz 42\n",
      "prepare_microbleednet_data ../Dataset/ValdoDataset/sub-108/sub-108_space-T2S_desc-masked_T1.nii.gz ../Dataset/ValdoDatasetPreProc/sub-108/output_preproc_sub-108_space-T2S_desc-masked_T1.nii.gz\n"
     ]
    }
   ],
   "source": [
    "import os\n",
    "import subprocess\n",
    "\n",
    "def call_zsh_function(input_file_path, output_file_path):\n",
    "    try:\n",
    "        # Replace 'prepare_microbleednet_data' with your actual Zsh function and arguments\n",
    "        zsh_command = f'prepare_microbleednet_data {input_file_path} {output_file_path}'\n",
    "        print(zsh_command);\n",
    "        subprocess.run(['zsh', '-c', zsh_command])\n",
    "    except Exception as e:\n",
    "        print(f\"Error executing Zsh function: {e}\")\n",
    "\n",
    "def traverse_folder(root_folder, output_folder):\n",
    "    count = 1\n",
    "    for foldername, subfolders, filenames in os.walk(root_folder):\n",
    "        for filename in filenames:\n",
    "            input_file_path = os.path.join(foldername, filename)\n",
    "            subfolder_name = filename[:7]\n",
    "            output_file_path = os.path.join(output_folder, subfolder_name, f\"output_preproc_{filename}\")\n",
    "            \n",
    "            # Create the output directory if it doesn't exist\n",
    "            os.makedirs(os.path.join(output_folder, subfolder_name), exist_ok=True)\n",
    "            \n",
    "            call_zsh_function(input_file_path, output_file_path)\n",
    "            print(output_file_path, count)\n",
    "            count += 1\n",
    "\n",
    "# Replace 'your/root/folder/path' with the path of the folder you want to traverse\n",
    "traverse_folder(valdoDatasetPath, valdoDatasetPreProcPath)\n"
   ]
  },
  {
   "cell_type": "code",
   "execution_count": null,
   "id": "ad5a45f6",
   "metadata": {},
   "outputs": [],
   "source": [
    "%%bash\n",
    "\n",
    "# Your Zsh script goes here\n",
    "#!/bin/zsh\n",
    "\n",
    "function call_zsh_function {\n",
    "    local input_file_path=$1\n",
    "    local output_file_path=$2\n",
    "\n",
    "    try {\n",
    "        # Replace 'prepare_microbleednet_data' with your actual Zsh function and arguments\n",
    "        local zsh_command=\"prepare_microbleednet_data ${input_file_path} ${output_file_path}\"\n",
    "        print ${zsh_command}\n",
    "        zsh -c \"${zsh_command}\"\n",
    "    } catch {\n",
    "        print \"Error executing Zsh function: ${exception}\"\n",
    "    }\n",
    "}\n",
    "\n",
    "function traverse_folder {\n",
    "    local root_folder=$1\n",
    "    local output_folder=$2\n",
    "    local count=1\n",
    "\n",
    "    for foldername in ${root_folder}/**/*(/); do\n",
    "        for filename in ${foldername}/*(.); do\n",
    "            local input_file_path=${filename}\n",
    "            local subfolder_name=${filename:t:r:0:6}\n",
    "            local output_file_path=\"${output_folder}/${subfolder_name}/output_preproc_${filename:t}\"\n",
    "\n",
    "            # Create the output directory if it doesn't exist\n",
    "            mkdir -p ${output_folder}/${subfolder_name}\n",
    "\n",
    "            call_zsh_function ${input_file_path} ${output_file_path}\n",
    "            print \"${output_file_path}\" \"${count}\"\n",
    "            ((count++))\n",
    "        done\n",
    "    done\n",
    "}\n",
    "\n",
    "# Replace the paths with your actual paths\n",
    "traverse_folder \"../Dataset/ValdoDataset/\" \"../Dataset/ValdoDatasetPreProc/\"\n"
   ]
  },
  {
   "cell_type": "code",
   "execution_count": null,
   "id": "caea88ab",
   "metadata": {},
   "outputs": [],
   "source": []
  }
 ],
 "metadata": {
  "kernelspec": {
   "display_name": "Python 3 (ipykernel)",
   "language": "python",
   "name": "python3"
  },
  "language_info": {
   "codemirror_mode": {
    "name": "ipython",
    "version": 3
   },
   "file_extension": ".py",
   "mimetype": "text/x-python",
   "name": "python",
   "nbconvert_exporter": "python",
   "pygments_lexer": "ipython3",
   "version": "3.11.3"
  }
 },
 "nbformat": 4,
 "nbformat_minor": 5
}
