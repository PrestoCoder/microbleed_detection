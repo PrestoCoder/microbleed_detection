{
 "cells": [
  {
   "cell_type": "code",
   "execution_count": 10,
   "id": "cfa8d9c6",
   "metadata": {},
   "outputs": [],
   "source": [
    "valdoDatasetPath = \"../Dataset/ValdoDataset/\";"
   ]
  },
  {
   "cell_type": "code",
   "execution_count": 11,
   "id": "19871a77",
   "metadata": {},
   "outputs": [],
   "source": [
    "valdoDatasetPreProcPath = \"../Dataset/ValdoDatasetPreProc/\";"
   ]
  },
  {
   "cell_type": "code",
   "execution_count": null,
   "id": "593517a4",
   "metadata": {},
   "outputs": [
    {
     "name": "stderr",
     "output_type": "stream",
     "text": [
      "/Users/rohanchhibba/fsl/bin/bet: line 399: 67298 Segmentation fault: 11  ${FSLDIR}/bin/bet2 $IN $OUT $bet2opts\n",
      "Image Exception : #63 :: No image files match: /Users/rohanchhibba/Desktop/PreAD/Dataset/ValdoDatasetPreProc/sub-213/truenet_SunMar__1Ak16s/INPUT_brain\n",
      "Image Exception : #22 :: Failed to read volume /Users/rohanchhibba/Desktop/PreAD/Dataset/ValdoDatasetPreProc/sub-213/truenet_SunMar__1Ak16s/INPUT_brain.nii.gz\n",
      "Error : No image files match: /Users/rohanchhibba/Desktop/PreAD/Dataset/ValdoDatasetPreProc/sub-213/truenet_SunMar__1Ak16s/INPUT_brain\n",
      "libc++abi: terminating with uncaught exception of type std::runtime_error: Failed to read volume /Users/rohanchhibba/Desktop/PreAD/Dataset/ValdoDatasetPreProc/sub-213/truenet_SunMar__1Ak16s/INPUT_brain.nii.gz\n",
      "Error : No image files match: /Users/rohanchhibba/Desktop/PreAD/Dataset/ValdoDatasetPreProc/sub-213/truenet_SunMar__1Ak16s/INPUT_brain\n",
      "/Library/Frameworks/Python.framework/Versions/3.12/bin/prepare_microbleednet_data: line 44: 67299 Abort trap: 6           $FSLDIR/bin/fast -B --nopve ${TMPVISDIR}/INPUT_brain.nii.gz\n"
     ]
    },
    {
     "name": "stdout",
     "output_type": "stream",
     "text": [
      "/Users/rohanchhibba/fsl/bin/bet failed during command:/Users/rohanchhibba/Desktop/PreAD/Dataset/ValdoDatasetPreProc/sub-213/truenet_SunMar__1Ak16s/INPUT.nii.gz /Users/rohanchhibba/Desktop/PreAD/Dataset/ValdoDatasetPreProc/sub-213/truenet_SunMar__1Ak16s/INPUT_brain.nii.gz\n",
      "Could not find a supported file with prefix \"/Users/rohanchhibba/Desktop/PreAD/Dataset/ValdoDatasetPreProc/sub-213/truenet_SunMar__1Ak16s/INPUT_brain_restore\"\n",
      "../Dataset/ValdoDatasetPreProc/sub-213/output_preproc_sub-213_space-T2S_CMB.nii.gz 1\n"
     ]
    }
   ],
   "source": [
    "import os\n",
    "import subprocess\n",
    "\n",
    "def call_zsh_function(input_file_path, output_file_path):\n",
    "    try:\n",
    "        # Replace 'prepare_microbleednet_data' with your actual Zsh function and arguments\n",
    "        zsh_command = f'prepare_microbleednet_data {input_file_path} {output_file_path}'\n",
    "        print(zsh_command);\n",
    "        subprocess.run(['zsh', '-c', zsh_command])\n",
    "    except Exception as e:\n",
    "        print(f\"Error executing Zsh function: {e}\")\n",
    "\n",
    "def traverse_folder(root_folder, output_folder):\n",
    "    count = 1\n",
    "    for foldername, subfolders, filenames in os.walk(root_folder):\n",
    "        for filename in filenames:\n",
    "            input_file_path = os.path.join(foldername, filename)\n",
    "            subfolder_name = filename[:7]\n",
    "            output_file_path = os.path.join(output_folder, subfolder_name, f\"output_preproc_{filename}\")\n",
    "            \n",
    "            # Create the output directory if it doesn't exist\n",
    "            os.makedirs(os.path.join(output_folder, subfolder_name), exist_ok=True)\n",
    "            \n",
    "            call_zsh_function(input_file_path, output_file_path)\n",
    "            print(output_file_path, count)\n",
    "            count += 1\n",
    "\n",
    "# Replace 'your/root/folder/path' with the path of the folder you want to traverse\n",
    "traverse_folder(valdoDatasetPath, valdoDatasetPreProcPath)\n"
   ]
  },
  {
   "cell_type": "code",
   "execution_count": null,
   "id": "e387d30d",
   "metadata": {},
   "outputs": [],
   "source": []
  }
 ],
 "metadata": {
  "kernelspec": {
   "display_name": "Python 3 (ipykernel)",
   "language": "python",
   "name": "python3"
  },
  "language_info": {
   "codemirror_mode": {
    "name": "ipython",
    "version": 3
   },
   "file_extension": ".py",
   "mimetype": "text/x-python",
   "name": "python",
   "nbconvert_exporter": "python",
   "pygments_lexer": "ipython3",
   "version": "3.11.3"
  }
 },
 "nbformat": 4,
 "nbformat_minor": 5
}
